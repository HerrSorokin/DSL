{
  "nbformat": 4,
  "nbformat_minor": 0,
  "metadata": {
    "colab": {
      "name": "Job#1.ipynb",
      "provenance": [],
      "authorship_tag": "ABX9TyO35EnhiW+tg8jSbdcG3IXm",
      "include_colab_link": true
    },
    "kernelspec": {
      "name": "python3",
      "display_name": "Python 3"
    },
    "language_info": {
      "name": "python"
    }
  },
  "cells": [
    {
      "cell_type": "markdown",
      "metadata": {
        "id": "view-in-github",
        "colab_type": "text"
      },
      "source": [
        "<a href=\"https://colab.research.google.com/github/HerrSorokin/DSL/blob/main/Job_1.ipynb\" target=\"_parent\"><img src=\"https://colab.research.google.com/assets/colab-badge.svg\" alt=\"Open In Colab\"/></a>"
      ]
    },
    {
      "cell_type": "code",
      "metadata": {
        "id": "zb0T5SALuEf9"
      },
      "source": [
        "def getText(textFileName):\n",
        "  try:\n",
        "    tFile = open(textFileName, \"r\")\n",
        "    text = tFile.read()\n",
        "    return textFileName\n",
        "  except IOError:\n",
        "    return textFileName\n",
        "  "
      ],
      "execution_count": 66,
      "outputs": []
    },
    {
      "cell_type": "markdown",
      "metadata": {
        "id": "NkNQDAgsxqMj"
      },
      "source": [
        "Get text from text file, if the file name is correct and file exists, else the text is this name."
      ]
    },
    {
      "cell_type": "code",
      "metadata": {
        "id": "hlsekUpaxEJ7"
      },
      "source": [
        "def compare(concatenation, text):\n",
        "  i = 0\n",
        "  for s1 in concatenation:\n",
        "\n",
        "    while i < len(text) and text[i] in whitespaces : i+= 1  \n",
        "\n",
        "    if i < len(text) and s1 == text[i]: \n",
        "      i+= 1\n",
        "    else: \n",
        "      return False \n",
        "  return True\n",
        "    \n"
      ],
      "execution_count": 78,
      "outputs": []
    },
    {
      "cell_type": "markdown",
      "metadata": {
        "id": "k-b6PG2PyB0g"
      },
      "source": [
        "Compare the concatenation with the original text according to the rule: \"All characters that are not included in **'whitespaces'** occur in the concatenation of the resulting list **'result'**, in the same order as in the original text\"."
      ]
    },
    {
      "cell_type": "code",
      "metadata": {
        "id": "4CqWQMeCeJBP"
      },
      "source": [
        "def cleanWhitespaces(text, whitespaces):\n",
        "  result = []\n",
        "  word = \"\"\n",
        "  for symb in text:\n",
        "    if symb in whitespaces:\n",
        "      if word: result.append(word)\n",
        "      word = \"\"\n",
        "    else:\n",
        "      word += symb\n",
        "  result.append(word)\n",
        "  return result"
      ],
      "execution_count": 72,
      "outputs": []
    },
    {
      "cell_type": "markdown",
      "metadata": {
        "id": "oVEof5BiciS6"
      },
      "source": [
        "Let's add each group of characters  separated by **'whitespaces'** and called **'word'** into the resulting list **'result'**.\n",
        "\n",
        "We sort the characters of the text, if this character is one of **'whitespaces'**, the function adds the non-empty contents of the buffer **'word'** to the resulting list  **'result'**."
      ]
    },
    {
      "cell_type": "code",
      "metadata": {
        "id": "fRfGF5guMbov"
      },
      "source": [
        "whitespaces = {' ', 'r'}\n",
        "textName = \" abra  kadabra \"\n",
        "text = getText(textName)\n",
        "result = cleanWhitespaces(text, whitespaces)\n"
      ],
      "execution_count": null,
      "outputs": []
    },
    {
      "cell_type": "markdown",
      "metadata": {
        "id": "C7h4m49-nqFM"
      },
      "source": [
        "Declare: \n",
        "\n",
        "*   **'whitespaces'** - set of separators;\n",
        "*   **'text'** - string, or the name of a text file received from **getTex(...)** ;\n",
        "*   **result** - the result of the function **cleanWhitespaces(...)**\n",
        "\n"
      ]
    },
    {
      "cell_type": "code",
      "metadata": {
        "id": "BQEg9DzDg8bh"
      },
      "source": [
        "concatenation = \"\"\n",
        "for wrd in result:   \n",
        "  concatenation += wrd"
      ],
      "execution_count": 64,
      "outputs": []
    },
    {
      "cell_type": "markdown",
      "metadata": {
        "id": "3MRbq5XghPvC"
      },
      "source": [
        "Сoncatenate all words from the resulting list **'result'**\n",
        "\n"
      ]
    },
    {
      "cell_type": "code",
      "metadata": {
        "id": "FHwXlxIVheFA"
      },
      "source": [
        "print(compare(concatenation, text))"
      ],
      "execution_count": null,
      "outputs": []
    },
    {
      "cell_type": "markdown",
      "metadata": {
        "id": "QV0jqukXhdyy"
      },
      "source": [
        "Check the correctness of our division"
      ]
    }
  ]
}