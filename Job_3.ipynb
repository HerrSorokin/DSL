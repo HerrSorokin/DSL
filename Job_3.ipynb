{
  "nbformat": 4,
  "nbformat_minor": 0,
  "metadata": {
    "colab": {
      "name": "Job#3.ipynb",
      "provenance": [],
      "collapsed_sections": [],
      "authorship_tag": "ABX9TyNfXEEOHCho7fV0FTDxFCiK",
      "include_colab_link": true
    },
    "kernelspec": {
      "name": "python3",
      "display_name": "Python 3"
    },
    "language_info": {
      "name": "python"
    }
  },
  "cells": [
    {
      "cell_type": "markdown",
      "metadata": {
        "id": "view-in-github",
        "colab_type": "text"
      },
      "source": [
        "<a href=\"https://colab.research.google.com/github/HerrSorokin/DSL/blob/main/Job_3.ipynb\" target=\"_parent\"><img src=\"https://colab.research.google.com/assets/colab-badge.svg\" alt=\"Open In Colab\"/></a>"
      ]
    },
    {
      "cell_type": "markdown",
      "metadata": {
        "id": "n5zmAxk1-UNk"
      },
      "source": [
        "Використовуючи представлення граматика, запропоноване у Job #2 напишіть:\n",
        "\n",
        "*програму, що генерує функцію FIRST\n",
        "*програму, що генерує функцію FOLLOW\n",
        "\n",
        "{'toks': set(token), 'vars': dict(var: definition), 'hvar': var}\n",
        "\n",
        "  token : (class, value)\n",
        "\n",
        "  class : int\n",
        "\n",
        "  value : str\n",
        "\n",
        "  var : str                 # імєя нетермінала\n",
        "\n",
        "  definition : list(rule)\n",
        "\n",
        "  rule : list(var | token)  # права частина правила"
      ]
    },
    {
      "cell_type": "markdown",
      "metadata": {
        "id": "jBg_LudO10Fq"
      },
      "source": [
        "To find FIRST function for our grammacy, we are looking through every rule for the non-terminal by next way:\n",
        "1. If the rule starts with terminal, we add this terminal to the result set and go on to the next rule, if it is.\n",
        "2. If the rule starts with a non-terminal, we call FIRST function for this non-terminal and analyze the achieved set. If this set contains an empty symbol(this non-terminal is vanishing), we need to go on to the next symbol of the rule, adding this set to the result set. If the set doesn't contain an empty symbol(this non-terminal is not vanishing), we go on to the next rule.\n",
        "\n",
        "In the end, we'll apply this FIRST function for every non-terminal and find the resulting set for every non-terminal."
      ]
    },
    {
      "cell_type": "code",
      "metadata": {
        "id": "4PyNAbIwbB7g"
      },
      "source": [
        "def all_firsts(gram, empt):\n",
        "  vars_firsts = dict() \n",
        "  toks = gram['toks']\n",
        "  vars = gram['vars']\n",
        "\n",
        "  '''\n",
        "  Функция First, которая проверяет правила для нетерминала.\n",
        "  Перебираем все правила для указанного нетерминала(nterm).\n",
        "  Посимвольно анализируем каждое правило:\n",
        "  *если символ терминал, то заносим его в множество искомых и переходим к следующему правилу\n",
        "  *если символ нетерминал, то спускаемся в рекурсию, если ранее не нашли для его first(), \n",
        "   если множество первых терминалов анализируемого нетерминал содержит пустой символ, \n",
        "   то переходим к следующему символу правила, иначе к следующему правилу\n",
        "  '''\n",
        "  def first(nterm):\n",
        "    toks_set = set() \n",
        "    for rule in vars[nterm]:\n",
        "      for symb in rule:\n",
        "        if symb not in vars:\n",
        "          toks_set.add(symb)\n",
        "          break;\n",
        "        else:\n",
        "          if symb not in vars_firsts.keys():\n",
        "            vars_firsts[symb] = first(symb)\n",
        "          toks_set = toks_set.union(vars_firsts[symb])\n",
        "          if(empt not in toks_set):\n",
        "            break;\n",
        "    \n",
        "    return toks_set\n",
        "\n",
        "  for nterm in vars.keys():\n",
        "    if nterm not in vars_firsts:\n",
        "      vars_firsts[nterm] = set(first(nterm))\n",
        "\n",
        "  return vars_firsts"
      ],
      "execution_count": 102,
      "outputs": []
    },
    {
      "cell_type": "markdown",
      "metadata": {
        "id": "YFt_mU6d5lzF"
      },
      "source": [
        "To find the result of FOLLOW-function for every non-terminal, we find all terminal symbols which can place after non-terminal by analyzing the set of productive rules. When we've got the rule like A → αBβ, we find the set of FIRST(β) and add it to the 'follow' set for non-terminal B. But if we got an empty symbol contained by FIRST(β), we also add the 'follow' set of nonterminal A to the 'follow' set for non-terminal B (FOLLOW(B) += FOLLOW(A)). Further, we go on to the next rule and repeat our actings while the 'follow' set of non-terminal B is growing."
      ]
    },
    {
      "cell_type": "code",
      "metadata": {
        "id": "Odcw08WNMJRT"
      },
      "source": [
        "def follow(gram, empt):\n",
        "  follows = dict() \n",
        "  firsts = all_firsts(G, empt)\n",
        "  toks = gram['toks']\n",
        "  vars = gram['vars']\n",
        "  hvar = gram['hvar']\n",
        "\n",
        "  for nterm in vars:\n",
        "    follows[nterm] = set()\n",
        "\n",
        "  #Вспомогательна функция для нахождения множества крайних левых токенов, выводимых из данной последовательности\n",
        "\n",
        "  def first_in_rule(rule):\n",
        "    tokens = set()\n",
        "    for symb in rule:\n",
        "      if symb in toks: \n",
        "        tokens.add(symb)\n",
        "        return tokens\n",
        "      else:\n",
        "        tokens.update(firsts[symb])\n",
        "        if empt not in firsts[symb]:\n",
        "          return tokens\n",
        "    return tokens\n",
        "\n",
        "\n",
        "  follows[hvar].add('@') # '@' - как конец строки\n",
        "  it_grows = True\n",
        "  while it_grows:\n",
        "    it_grows = False\n",
        "    for nterm, definition in vars.items():\n",
        "      for rule in definition:\n",
        "        while len(rule): #анализируем каждый символ правила и то что находится или может находится справа от него\n",
        "          top = rule.pop(0)\n",
        "          if top not in toks:\n",
        "            was = len(follows[top])\n",
        "            fts = first_in_rule(rule)\n",
        "            follows[top].update(fts.difference(empt))\n",
        "            if empt in fts:\n",
        "              follows[top].update(follows[nterm])\n",
        "            now = len(follows[top])\n",
        "            if not (was == now):\n",
        "              it_grows = True\n",
        "  return follows"
      ],
      "execution_count": 110,
      "outputs": []
    },
    {
      "cell_type": "code",
      "metadata": {
        "colab": {
          "base_uri": "https://localhost:8080/"
        },
        "id": "nOOf5aq-g3VK",
        "outputId": "86b88a45-1c7a-4903-d50e-6eb0a91c0834"
      },
      "source": [
        "\n",
        "gr = {\n",
        "    'toks': set( [\n",
        "        (0, 'e'), \n",
        "        (1, 'v'), \n",
        "        (2, 'n'), \n",
        "        (3, '+'),\n",
        "        (4, '*'),\n",
        "        (5, '('),\n",
        "        (6, ')')\n",
        "    ] ),\n",
        "\n",
        "    'vars': {\n",
        "        'S' : [['T', 'C']],\n",
        "\n",
        "        'C' : [[(3, '+'), 'T', 'C'],\n",
        "               [(0, 'e')]],\n",
        "             \n",
        "        'T' : [['F', 'D'],\n",
        "               [(0, 'e')]],\n",
        "             \n",
        "        'D' : [[(4, '*'), 'F', 'D'],\n",
        "               [(0, 'e')]],\n",
        "             \n",
        "        'F' : [[(1, 'v')],\n",
        "               [(2, 'n')],\n",
        "               [(5, '('), 'S', (6, ')')]],\n",
        "    },\n",
        "    'hvar': 'S'\n",
        "}\n",
        "\n",
        "print(\"Results of FIRST function for every non-terminal: \", all_firsts(gr, (0, 'e')))\n",
        "print(\"Results of FOLLOW function for every non-terminal: \", follow(gr, (0, 'e')))\n",
        "\n",
        "\n",
        "\n",
        "\n"
      ],
      "execution_count": 112,
      "outputs": [
        {
          "output_type": "stream",
          "name": "stdout",
          "text": [
            "Results of FIRST function for every non-terminal:  {'F': {(5, '('), (1, 'v'), (2, 'n')}, 'T': {(5, '('), (1, 'v'), (0, 'e'), (2, 'n')}, 'C': {(0, 'e'), (3, '+')}, 'S': {(5, '('), (1, 'v'), (0, 'e'), (2, 'n'), (3, '+')}, 'D': {(0, 'e'), (4, '*')}}\n",
            "Results of FOLLOW function for every non-terminal:  {'S': {(6, ')'), '@'}, 'C': set(), 'T': {(0, 'e'), (3, '+'), '@'}, 'D': set(), 'F': {(0, 'e'), (4, '*'), (3, '+'), '@'}}\n"
          ]
        }
      ]
    },
    {
      "cell_type": "markdown",
      "metadata": {
        "id": "IDyw66ym9-Ha"
      },
      "source": [
        "Results of FIRST function for every non-terminal:  \n",
        "{\n",
        "  \n",
        "  'F': {(5, '('), (1, 'v'), (2, 'n')}, \n",
        "  \n",
        "  'T': {(5, '('), (1, 'v'), (0, 'e'), (2, 'n')}, \n",
        "  \n",
        "  'C': {(0, 'e'), (3, '+')}, 'S': {(5, '('), (1, 'v'), (0, 'e'), (2, 'n'), (3, '+')}, \n",
        "  \n",
        "  'D': {(0, 'e'), (4, '*')}}\n",
        "\n",
        "Results of FOLLOW function for every non-terminal:  \n",
        "{\n",
        "  \n",
        "  'S': {(6, ')'), '@'}, \n",
        "  \n",
        "  'C': set(), \n",
        "  \n",
        "  'T': {(0, 'e'), (3, '+'), '@'}, \n",
        "  \n",
        "  'D': set(), \n",
        "  \n",
        "  'F': {(0, 'e'), (4, '*'), (3, '+'), '@'}}"
      ]
    }
  ]
}